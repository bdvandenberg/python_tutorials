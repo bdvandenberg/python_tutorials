{
 "cells": [
  {
   "cell_type": "markdown",
   "metadata": {},
   "source": [
    "# Iterator workflow for cables\n",
    "To be able to use the Iterator, the following steps need to be followed to install py-ofx on your laptop:\n",
    "1. Clone the py-ofx repository to your laptop: https://github.com/VanOord/py-ofx;\n",
    "2. Check out the temp-mixin-fix branch;\n",
    "3. Install py-ofx by running `pip install -e .` in the top level of the repository.\n",
    "\n",
    "After following those steps, you should be able to perform the following imports:"
   ]
  },
  {
   "cell_type": "code",
   "execution_count": 1,
   "metadata": {},
   "outputs": [],
   "source": [
    "import OrcFxAPI as ofx\n",
    "from py_ofx.utils import Iterator"
   ]
  },
  {
   "cell_type": "markdown",
   "metadata": {},
   "source": [
    "The general procedure for working with the Iterator object is as follows:\n",
    "0. Create example model (for this session only);\n",
    "1. Prepare your model;\n",
    "2. Load model file into Iterator;\n",
    "3. Load checker functions;\n",
    "4. Define iteration parameter;\n",
    "5. Run."
   ]
  },
  {
   "cell_type": "markdown",
   "metadata": {},
   "source": [
    "## 0. Create example model\n",
    "For this session we create a model using python so that no *dat file needs to be loaded."
   ]
  },
  {
   "cell_type": "code",
   "execution_count": 2,
   "metadata": {},
   "outputs": [],
   "source": [
    "# Create model\n",
    "model = ofx.Model()\n",
    "\n",
    "# Add line object\n",
    "line = model.CreateObject(ofx.otLine, name=\"Cable\")"
   ]
  },
  {
   "cell_type": "markdown",
   "metadata": {},
   "source": [
    "## 1. Prepare your model\n",
    "In principle this is done in the same way as in the previous workflow. The parameters that do not change during the iteration should be all set in advance."
   ]
  },
  {
   "cell_type": "code",
   "execution_count": 3,
   "metadata": {},
   "outputs": [],
   "source": [
    "# Set JONSWAP waves\n",
    "model.environment.WaveType = \"JONSWAP\"\n",
    "\n",
    "# Set wave parameters\n",
    "model.environment.WaveTp = 8\n",
    "\n",
    "# Set simulation duration\n",
    "model.general.StageCount = 2\n",
    "model.general.StageDuration = [10, 10800]"
   ]
  },
  {
   "cell_type": "markdown",
   "metadata": {},
   "source": [
    "## 2. Load model into Iterator\n",
    "Create an Iterator object and load the Orcaflex model into it. For demonstration purposes we set the time interval for checking if the limits are exceeded to 30 seconds."
   ]
  },
  {
   "cell_type": "code",
   "execution_count": 4,
   "metadata": {},
   "outputs": [],
   "source": [
    "it = Iterator(model)\n",
    "it.limit_check_interval = 30"
   ]
  },
  {
   "cell_type": "markdown",
   "metadata": {},
   "source": [
    "## 3. Load checker functions\n",
    "Here the workflow starts deviating significantly from the previous workflow. To let the Iterator object check the limiting criteria, checker functions must be defined and loaded into the object. An example of a simple checker function looks like this:\n",
    "```\n",
    "def checker_function(model, period):\n",
    "    data = model[\"Cable\"].TimeHistory(\"Effective tension\", period, ofx.oeEndA)\n",
    "    exceeded = data.max() > 42\n",
    "    return (exceeded, data)\n",
    "```\n",
    "The reason this has to be in the form of a function is that the Iterator will change the variable period every time it calls this function so that the checks are done for example at the following periods:\n",
    "- from start to 0 seconds\n",
    "- from 0 to 5 seconds\n",
    "- from 5 to 10 seconds\n",
    "- from 10 seconds until the end\n",
    "\n",
    "If the first argument which the checker function returns is True, the simulation will be aborted and restarted after re-setting the iteration parameter.\n",
    "\n",
    "The second argument that the checker function returns is the data from the TimeHistory or RangeGraph, which can be used for post-processing purposes. This avoids the need to write the same Orcaflex code twice.\n",
    "\n",
    "Let's use the example checker function above in this model:"
   ]
  },
  {
   "cell_type": "code",
   "execution_count": 5,
   "metadata": {},
   "outputs": [],
   "source": [
    "def checker_function(model, period):\n",
    "    data = model[\"Cable\"].TimeHistory(\"Effective tension\", period, ofx.oeEndA)\n",
    "    exceeded = data.max() > 42\n",
    "    return (exceeded, data)"
   ]
  },
  {
   "cell_type": "markdown",
   "metadata": {},
   "source": [
    "Now the checker function can be loaded into the Iterator:"
   ]
  },
  {
   "cell_type": "code",
   "execution_count": 6,
   "metadata": {},
   "outputs": [],
   "source": [
    "it.set_checker_funcs(checker_function)"
   ]
  },
  {
   "cell_type": "markdown",
   "metadata": {},
   "source": [
    "## 4. Define iteration parameter\n",
    "Normally we use the significant wave height as iteration parameter. With this function you can set any Orcaflex parameter as iteration parameter. Note that the parameter should be written exactly how Orcaflex defines the parameter, such as WaveHs, WaveHeight etc.\n",
    "\n",
    "Currently the Iterator can only iterate down, so the step must be negative."
   ]
  },
  {
   "cell_type": "code",
   "execution_count": 7,
   "metadata": {},
   "outputs": [],
   "source": [
    "it.set_iteration_parameter(parameter=\"WaveHs\", start=1.5, end=0, step=-0.25)"
   ]
  },
  {
   "cell_type": "markdown",
   "metadata": {},
   "source": [
    "## 5. Run"
   ]
  },
  {
   "cell_type": "code",
   "execution_count": 8,
   "metadata": {},
   "outputs": [
    {
     "name": "stdout",
     "output_type": "stream",
     "text": [
      "Iteration parameter: WaveHs, start value: 2.5\n",
      "Running simulation, WaveHs = 2.5\n",
      "Simulation aborted at 5260.4s, limits exceeded function checker_function\n",
      "\n",
      "Running simulation, WaveHs = 2.25\n",
      "Simulation aborted at 5227.2s, limits exceeded function checker_function\n",
      "\n",
      "Running simulation, WaveHs = 2.0\n",
      "Simulation aborted at 5124.9s, limits exceeded function checker_function\n",
      "\n",
      "Running simulation, WaveHs = 1.75\n",
      "Simulation aborted at 5063.6s, limits exceeded function checker_function\n",
      "\n",
      "Running simulation, WaveHs = 1.5\n",
      "Simulation aborted at 4979.9s, limits exceeded function checker_function\n",
      "\n",
      "Running simulation, WaveHs = 1.25\n",
      "Simulation aborted at 4736.6s, limits exceeded function checker_function\n",
      "\n",
      "Running simulation, WaveHs = 1.0\n",
      "Simulation passed, WaveHs = 1.0\n",
      "\n"
     ]
    }
   ],
   "source": [
    "it.run()"
   ]
  }
 ],
 "metadata": {
  "kernelspec": {
   "display_name": "Python 3",
   "language": "python",
   "name": "python3"
  }
 },
 "nbformat": 4,
 "nbformat_minor": 4
}
