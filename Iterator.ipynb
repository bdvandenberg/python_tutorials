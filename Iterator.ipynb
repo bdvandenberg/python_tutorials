{
 "cells": [
  {
   "cell_type": "markdown",
   "metadata": {},
   "source": [
    "# Iterator workflow for cables\n",
    "To be able to use the Iterator, the following steps need to be followed to install py-ofx on your laptop:\n",
    "1. Clone the py-ofx repository to your laptop: https://github.com/VanOord/py-ofx;\n",
    "2. Check out the temp-mixin-fix branch;\n",
    "3. Install py-ofx by running `pip install -e .` in the top level of the repository.\n",
    "\n",
    "After following those steps, you should be able to perform the following imports:"
   ]
  },
  {
   "cell_type": "code",
   "execution_count": null,
   "metadata": {},
   "outputs": [],
   "source": [
    "import OrcFxAPI as ofx\n",
    "from py_ofx.utils import Iterator"
   ]
  },
  {
   "cell_type": "markdown",
   "metadata": {},
   "source": [
    "The general procedure for working with the Iterator object is as follows:\n",
    "0. Create example model (for this session only);\n",
    "1. Prepare your model;\n",
    "2. Load model file into Iterator;\n",
    "3. Load checker functions;\n",
    "4. Define iteration parameter;\n",
    "5. Run."
   ]
  },
  {
   "cell_type": "markdown",
   "metadata": {},
   "source": [
    "## 0. Create example model\n",
    "For this session we create a model using python so that no *dat file needs to be loaded."
   ]
  },
  {
   "cell_type": "code",
   "execution_count": null,
   "metadata": {},
   "outputs": [],
   "source": [
    "# Create model\n",
    "model = ofx.Model()\n",
    "\n",
    "# Add line object\n",
    "line = model.CreateObject(ofx.otLine, name=\"Cable\")"
   ]
  },
  {
   "cell_type": "markdown",
   "metadata": {},
   "source": [
    "## 1. Prepare your model\n",
    "In principle this is done in the same way as in the previous workflow. The parameters that do not change during the iteration should be all set in advance."
   ]
  },
  {
   "cell_type": "code",
   "execution_count": null,
   "metadata": {},
   "outputs": [],
   "source": [
    "# Set JONSWAP waves\n",
    "model.environment.WaveType = \"JONSWAP\"\n",
    "\n",
    "# Set wave parameters\n",
    "model.environment.WaveTp = 8\n",
    "\n",
    "# Set simulation duration\n",
    "model.general.StageCount = 2\n",
    "model.general.StageDuration = [10, 10800]"
   ]
  },
  {
   "cell_type": "markdown",
   "metadata": {},
   "source": [
    "## 2. Load model into Iterator\n",
    "Create an Iterator object and load the Orcaflex model into it. For demonstration purposes we set the time interval for checking if the limits are exceeded to 30 seconds (real time)."
   ]
  },
  {
   "cell_type": "code",
   "execution_count": null,
   "metadata": {},
   "outputs": [],
   "source": [
    "it = Iterator(model)\n",
    "it.limit_check_interval = 30"
   ]
  },
  {
   "cell_type": "markdown",
   "metadata": {},
   "source": [
    "## 3. Load checker functions\n",
    "Here the workflow starts deviating significantly from the previous workflow. To let the Iterator object check the limiting criteria, checker functions must be defined and loaded into the object. An example of a simple checker function looks like this:\n",
    "```\n",
    "def checker_function(model, period):\n",
    "    data = model[\"Cable\"].TimeHistory(\"Effective tension\", period, ofx.oeEndA)\n",
    "    exceeded = data.max() > 42\n",
    "    return (exceeded, data)\n",
    "```\n",
    "The reason this has to be in the form of a function is that the Iterator will change the variable period every time it calls this function so that the checks are done for example at the following periods:\n",
    "- from start to 0 seconds\n",
    "- from 0 to 5 seconds\n",
    "- from 5 to 10 seconds\n",
    "- from 10 seconds until the end\n",
    "\n",
    "If the first argument which the checker function returns is True, the simulation will be aborted and restarted after re-setting the iteration parameter.\n",
    "\n",
    "The second argument that the checker function returns is the data from the TimeHistory or RangeGraph, which can be used for post-processing purposes. This avoids the need to write the same Orcaflex code twice.\n",
    "\n",
    "Let's use the example checker function above in this model:"
   ]
  },
  {
   "cell_type": "code",
   "execution_count": null,
   "metadata": {},
   "outputs": [],
   "source": [
    "def checker_function(model, period):\n",
    "    data = model[\"Cable\"].TimeHistory(\"Effective tension\", period, ofx.oeEndA)\n",
    "    exceeded = data.max() > 42\n",
    "    return (exceeded, data)"
   ]
  },
  {
   "cell_type": "markdown",
   "metadata": {},
   "source": [
    "Now the checker function can be loaded into the Iterator:"
   ]
  },
  {
   "cell_type": "code",
   "execution_count": null,
   "metadata": {},
   "outputs": [],
   "source": [
    "it.set_checker_funcs(checker_function)"
   ]
  },
  {
   "cell_type": "markdown",
   "metadata": {},
   "source": [
    "## 4. Define iteration parameter\n",
    "Normally we use the significant wave height as iteration parameter. With this function you can set any Orcaflex parameter as iteration parameter. Note that the parameter should be written exactly how Orcaflex defines the parameter, such as WaveHs, WaveHeight etc.\n",
    "\n",
    "Currently the Iterator can only iterate down, so the step must be negative."
   ]
  },
  {
   "cell_type": "code",
   "execution_count": null,
   "metadata": {},
   "outputs": [],
   "source": [
    "it.set_iteration_parameter(parameter=\"WaveHs\", start=1.5, end=0, step=-0.25)"
   ]
  },
  {
   "cell_type": "markdown",
   "metadata": {},
   "source": [
    "## 5. Run\n",
    "No the Iterator is ready for running. Notice that the simulation gets aborted and output is given with the name of the checker function that caused the exit."
   ]
  },
  {
   "cell_type": "code",
   "execution_count": null,
   "metadata": {},
   "outputs": [],
   "source": [
    "it.run()"
   ]
  },
  {
   "cell_type": "markdown",
   "metadata": {},
   "source": [
    "Remember that the failed simulations are being reset and no data of those simulations is saved by default. The failure modes of the failed simulations are stored:"
   ]
  },
  {
   "cell_type": "code",
   "execution_count": null,
   "metadata": {},
   "outputs": [],
   "source": [
    "it.failure_modes"
   ]
  },
  {
   "cell_type": "markdown",
   "metadata": {},
   "source": [
    "After running, the model is complete and results can be processed"
   ]
  },
  {
   "cell_type": "code",
   "execution_count": null,
   "metadata": {},
   "outputs": [],
   "source": [
    "model.state"
   ]
  },
  {
   "cell_type": "code",
   "execution_count": null,
   "metadata": {},
   "outputs": [],
   "source": [
    "# Reset the model before starting the assignments below\n",
    "model.Reset()\n",
    "model.state"
   ]
  },
  {
   "cell_type": "markdown",
   "metadata": {},
   "source": [
    "### Assignment 1\n",
    "Write your own checker function for curvature. The maximum allowable curvature is 0.084."
   ]
  },
  {
   "cell_type": "code",
   "execution_count": null,
   "metadata": {},
   "outputs": [],
   "source": [
    "def check_curvature(model, period):\n",
    "    # Write your code here\n",
    "    \n",
    "    return (exceeded, data)"
   ]
  },
  {
   "cell_type": "code",
   "execution_count": null,
   "metadata": {},
   "outputs": [],
   "source": [
    "# You can test if your checker works the way you expect it to be with statics:\n",
    "model.CalculateStatics()\n",
    "check_curvature(model, ofx.pnStaticState)"
   ]
  },
  {
   "cell_type": "markdown",
   "metadata": {},
   "source": [
    "### Assignment 2\n",
    "Create a new Iterator object and load the existing model into it. For this assignment the check interval is set to 30 sec."
   ]
  },
  {
   "cell_type": "code",
   "execution_count": null,
   "metadata": {},
   "outputs": [],
   "source": [
    "it = \n",
    "it.limit_check_interval = 30"
   ]
  },
  {
   "cell_type": "markdown",
   "metadata": {},
   "source": [
    "### Assignment 3\n",
    "Add your checker function to the iterator object."
   ]
  },
  {
   "cell_type": "code",
   "execution_count": null,
   "metadata": {},
   "outputs": [],
   "source": []
  },
  {
   "cell_type": "markdown",
   "metadata": {},
   "source": [
    "### Assignment 4\n",
    "Define the iteration parameter Hs and start at 1.5m."
   ]
  },
  {
   "cell_type": "code",
   "execution_count": null,
   "metadata": {},
   "outputs": [],
   "source": []
  },
  {
   "cell_type": "markdown",
   "metadata": {},
   "source": [
    "## Prerunners\n",
    "Sometimes when running an iteration, other parameters besides the iteration parameter need to be changed for each iteration step. This can be done using a prerunner. A few standard prerunners are included in py-ofx:\n",
    "- seed selection\n",
    "- wave gamma selection\n",
    "\n",
    "These can easily be imported and added to the iterator. Do note that the order in which the prerunners are added is also the order in which the Iterator will call the prerunners. <b>As the peak enhancement factor has an influence on waves in the seed, set_gamma should be added before set_seed</b>."
   ]
  },
  {
   "cell_type": "code",
   "execution_count": null,
   "metadata": {},
   "outputs": [],
   "source": [
    "from py_ofx.utils import set_gamma, set_seed"
   ]
  },
  {
   "cell_type": "code",
   "execution_count": null,
   "metadata": {},
   "outputs": [],
   "source": [
    "it.add_prerunner(set_gamma)\n",
    "it.add_prerunner(set_seed)"
   ]
  },
  {
   "cell_type": "markdown",
   "metadata": {},
   "source": [
    "### Assignment 5\n",
    "Run your model :)"
   ]
  },
  {
   "cell_type": "markdown",
   "metadata": {},
   "source": [
    "# Documentation\n",
    "If you want to know more about the Iterator, you can find a lot of documentation in the scripts."
   ]
  },
  {
   "cell_type": "code",
   "execution_count": null,
   "metadata": {},
   "outputs": [],
   "source": [
    "help(Iterator)"
   ]
  }
 ],
 "metadata": {
  "kernelspec": {
   "display_name": "Python 3",
   "language": "python",
   "name": "python3"
  },
  "language_info": {
   "codemirror_mode": {
    "name": "ipython",
    "version": 3
   },
   "file_extension": ".py",
   "mimetype": "text/x-python",
   "name": "python",
   "nbconvert_exporter": "python",
   "pygments_lexer": "ipython3",
   "version": "3.8.5"
  }
 },
 "nbformat": 4,
 "nbformat_minor": 4
}
